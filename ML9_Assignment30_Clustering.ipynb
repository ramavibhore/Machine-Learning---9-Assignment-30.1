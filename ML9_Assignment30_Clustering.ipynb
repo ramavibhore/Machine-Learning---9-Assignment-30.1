{
 "cells": [
  {
   "cell_type": "code",
   "execution_count": null,
   "metadata": {},
   "outputs": [],
   "source": [
    "##compress racoon grey scale image into 5 clusters. In\n",
    "##the end, visualize both raw and compressed image and look for quality difference.\n",
    "\n",
    "import numpy as np\n",
    "from sklearn import cluster, datasets\n",
    "from scipy import misc\n",
    "import scipy as sp\n",
    "import matplotlib.pyplot as plt\n",
    "from sklearn.cluster import KMeans\n",
    "\n",
    "face = sp.misc.face(gray = True)\n",
    "n_clusters = 5\n",
    "np.random.seed(0)\n",
    "X = face.reshape((-1,1))\n",
    "k_Means= cluster.KMeans(n_clusters=n_clusters,n_init=4)\n",
    "k_Means.fit(X)\n",
    "\n",
    "plt.figure(figsize=(8, 3.5))\n",
    "plt.subplot(121)\n",
    "plt.imshow(X, cmap='gray')\n",
    "plt.axis('off')\n",
    "\n",
    "\n",
    "plt.tight_layout()\n",
    "plt.show()"
   ]
  }
 ],
 "metadata": {
  "kernelspec": {
   "display_name": "Python 3",
   "language": "python",
   "name": "python3"
  },
  "language_info": {
   "codemirror_mode": {
    "name": "ipython",
    "version": 3
   },
   "file_extension": ".py",
   "mimetype": "text/x-python",
   "name": "python",
   "nbconvert_exporter": "python",
   "pygments_lexer": "ipython3",
   "version": "3.6.4"
  }
 },
 "nbformat": 4,
 "nbformat_minor": 2
}
